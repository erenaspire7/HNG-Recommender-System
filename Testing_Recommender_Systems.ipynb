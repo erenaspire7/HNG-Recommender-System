{
  "nbformat": 4,
  "nbformat_minor": 0,
  "metadata": {
    "kernelspec": {
      "display_name": "Python 3",
      "language": "python",
      "name": "python3"
    },
    "language_info": {
      "codemirror_mode": {
        "name": "ipython",
        "version": 3
      },
      "file_extension": ".py",
      "mimetype": "text/x-python",
      "name": "python",
      "nbconvert_exporter": "python",
      "pygments_lexer": "ipython3",
      "version": "3.7.3"
    },
    "colab": {
      "name": "Testing-Recommender-Systems.ipynb",
      "provenance": []
    }
  },
  "cells": [
    {
      "cell_type": "markdown",
      "metadata": {
        "id": "bNZ_tlUG3ZSd",
        "colab_type": "text"
      },
      "source": [
        "## Clone Repo And Install MySql Connector"
      ]
    },
    {
      "cell_type": "code",
      "metadata": {
        "id": "1qzrHvSf106b",
        "colab_type": "code",
        "colab": {}
      },
      "source": [
        "!git clone https://github.com/yusuffjamal3/HNG-Recommender-System.git"
      ],
      "execution_count": 0,
      "outputs": []
    },
    {
      "cell_type": "code",
      "metadata": {
        "id": "4m11IVl63DE6",
        "colab_type": "code",
        "colab": {}
      },
      "source": [
        "!pip install mysql-connector"
      ],
      "execution_count": 0,
      "outputs": []
    },
    {
      "cell_type": "markdown",
      "metadata": {
        "id": "Xnu49zUP0k0j",
        "colab_type": "text"
      },
      "source": [
        "## Documentation\n",
        "The word2vec model recommends only to users who have followed people in the past and it does not recommend to users who have not followed anyone."
      ]
    },
    {
      "cell_type": "code",
      "metadata": {
        "id": "dS3PqB950k0n",
        "colab_type": "code",
        "colab": {}
      },
      "source": [
        "import pandas as pd\n",
        "import pickle\n",
        "import sys\n",
        "sys.path.append('/content/HNG-Recommender-System/')\n",
        "from Article_Recommender_System import recommend_article_to_read\n",
        "from People_To_Follow_Recommender_System import recommend_to_follow"
      ],
      "execution_count": 0,
      "outputs": []
    },
    {
      "cell_type": "code",
      "metadata": {
        "id": "66HFZkT00k0y",
        "colab_type": "code",
        "colab": {}
      },
      "source": [
        "with open(\"/content/HNG-Recommender-System/word2vec_who_to_follow_model.pkl\", 'rb') as f:\n",
        "    model = pickle.load(f)\n",
        "    \n",
        "    \n",
        "users = pd.read_csv(\"/content/HNG-Recommender-System/users_df.csv\")\n",
        "users = users[['id', 'name']]\n",
        "users['name'] = users.name.str.lower()"
      ],
      "execution_count": 0,
      "outputs": []
    },
    {
      "cell_type": "markdown",
      "metadata": {
        "id": "dLP0LPnQ0k05",
        "colab_type": "text"
      },
      "source": [
        "### Enter any user you want"
      ]
    },
    {
      "cell_type": "code",
      "metadata": {
        "id": "TTlJ1no90k09",
        "colab_type": "code",
        "colab": {
          "base_uri": "https://localhost:8080/",
          "height": 34
        },
        "outputId": "fc671ad3-9f6b-470c-a121-01eb272f4029"
      },
      "source": [
        "user = input(\"Enter a user you want to recommend to: \").lower()\n",
        "user_id = int(users.loc[users['name']==user, 'id'].to_numpy())\n",
        "user_id = str(user_id)"
      ],
      "execution_count": 19,
      "outputs": [
        {
          "output_type": "stream",
          "text": [
            "Enter a user you want to recommend to: Seyi Onifade\n"
          ],
          "name": "stdout"
        }
      ]
    },
    {
      "cell_type": "markdown",
      "metadata": {
        "id": "DxtL7KIn0k1B",
        "colab_type": "text"
      },
      "source": [
        "### Run this Cell to get the recommended people to follow"
      ]
    },
    {
      "cell_type": "code",
      "metadata": {
        "id": "hVHkqkzj0k1C",
        "colab_type": "code",
        "colab": {
          "base_uri": "https://localhost:8080/",
          "height": 241
        },
        "outputId": "c8f91926-01de-4040-ab86-abde242e7ba5"
      },
      "source": [
        "# People to follow for the user\n",
        "def similar_users(vector, n = 6):\n",
        "    \n",
        "    # extract most similar users for the input vector\n",
        "    msu = model.wv.similar_by_vector(vector, topn= n+1)[1:]\n",
        "\n",
        "    # extract name of the similar users\n",
        "    similar_us = []\n",
        "    for i in msu:\n",
        "        similar_us.append(i[0])\n",
        "        people_to_follow = users[users['id'].isin(similar_us)]\n",
        "    return people_to_follow\n",
        "\n",
        "try:\n",
        "    print(\"People to Follow: \\n\",similar_users(model[user_id]))\n",
        "except:\n",
        "    print(\"No recommendation for this user\")"
      ],
      "execution_count": 20,
      "outputs": [
        {
          "output_type": "stream",
          "text": [
            "People to Follow: \n",
            "         id                name\n",
            "0        1  eniayomi oluwaseyi\n",
            "1        2       elijah okokon\n",
            "8        9        edmund ekott\n",
            "10      11        jenni essien\n",
            "19      20         albert oboh\n",
            "1044  1045       abiodun olunu\n"
          ],
          "name": "stdout"
        },
        {
          "output_type": "stream",
          "text": [
            "/usr/local/lib/python3.6/dist-packages/ipykernel_launcher.py:14: DeprecationWarning: Call to deprecated `__getitem__` (Method will be removed in 4.0.0, use self.wv.__getitem__() instead).\n",
            "  \n",
            "/usr/local/lib/python3.6/dist-packages/gensim/matutils.py:737: FutureWarning: Conversion of the second argument of issubdtype from `int` to `np.signedinteger` is deprecated. In future, it will be treated as `np.int64 == np.dtype(int).type`.\n",
            "  if np.issubdtype(vec.dtype, np.int):\n"
          ],
          "name": "stderr"
        }
      ]
    },
    {
      "cell_type": "markdown",
      "metadata": {
        "id": "FeMXIpCj0k1H",
        "colab_type": "text"
      },
      "source": [
        "## Recommend Articles to the user"
      ]
    },
    {
      "cell_type": "code",
      "metadata": {
        "id": "5-UZyC5M0k1J",
        "colab_type": "code",
        "colab": {
          "base_uri": "https://localhost:8080/",
          "height": 119
        },
        "outputId": "d89e9c3d-18dc-4918-995a-45fd163e94d7"
      },
      "source": [
        "recommend_article_to_read(int(user_id))"
      ],
      "execution_count": 21,
      "outputs": [
        {
          "output_type": "execute_result",
          "data": {
            "text/plain": [
              "487              First Class About HTML\n",
              "258             WHAT I'VE LEARNT SO FAR\n",
              "4                                Task 2\n",
              "260                     HTML Experience\n",
              "43     HTML Course so far on startdotng\n",
              "Name: title, dtype: object"
            ]
          },
          "metadata": {
            "tags": []
          },
          "execution_count": 21
        }
      ]
    },
    {
      "cell_type": "markdown",
      "metadata": {
        "id": "bfdmIeLm0k1P",
        "colab_type": "text"
      },
      "source": [
        "## Recommend who to follow based on similarity"
      ]
    },
    {
      "cell_type": "code",
      "metadata": {
        "id": "x4etLi1V0k1Q",
        "colab_type": "code",
        "colab": {
          "base_uri": "https://localhost:8080/",
          "height": 119
        },
        "outputId": "a8c0bbfe-c242-4202-d341-a8550ffe9a43"
      },
      "source": [
        "recommend_to_follow(int(user_id))"
      ],
      "execution_count": 22,
      "outputs": [
        {
          "output_type": "execute_result",
          "data": {
            "text/plain": [
              "665     Tolulope Ogunfuwa\n",
              "1090        Fisayo Aikomo\n",
              "18            Lawal Idris\n",
              "235     Alexander Ibrahim\n",
              "877           taiwo coker\n",
              "Name: name, dtype: object"
            ]
          },
          "metadata": {
            "tags": []
          },
          "execution_count": 22
        }
      ]
    },
    {
      "cell_type": "code",
      "metadata": {
        "colab_type": "code",
        "id": "p06OlmEI4d1M",
        "colab": {}
      },
      "source": [
        ""
      ],
      "execution_count": 0,
      "outputs": []
    }
  ]
}