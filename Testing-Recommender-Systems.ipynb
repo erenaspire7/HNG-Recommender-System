{
 "cells": [
  {
   "cell_type": "markdown",
   "metadata": {},
   "source": [
    "## Documentation\n",
    "The word2vec model recommends only to users who have followed people in the past and it does not recommend to users who have not followed anyone."
   ]
  },
  {
   "cell_type": "code",
   "execution_count": null,
   "metadata": {},
   "outputs": [
    {
     "name": "stdout",
     "output_type": "stream",
     "text": [
      "(bytearray(b'comments'),)\n",
      "(bytearray(b'contact_settings'),)\n",
      "(bytearray(b'ext_feed_banks'),)\n",
      "(bytearray(b'ext_rsses'),)\n",
      "(bytearray(b'extfeeds'),)\n",
      "(bytearray(b'following'),)\n",
      "(bytearray(b'interests'),)\n",
      "(bytearray(b'maillists'),)\n",
      "(bytearray(b'migrations'),)\n",
      "(bytearray(b'notifications'),)\n",
      "(bytearray(b'password_resets'),)\n",
      "(bytearray(b'posts'),)\n",
      "(bytearray(b'thoughts'),)\n",
      "(bytearray(b'user_settings'),)\n",
      "(bytearray(b'users'),)\n",
      "(bytearray(b'users_email_login_tokens'),)\n",
      "The shape of the data, following is  (5296, 3)\n",
      "The column names are  Index(['my_id', 'follower_id', 'status'], dtype='object')\n",
      "The new dataframe head is     user_id  follower_id  status\n",
      "0        3            6       1\n",
      "1        6            3       1\n",
      "2        3            2       1\n",
      "3        3            7       1\n",
      "4        7            2       1\n",
      "The number of unique users is  980  users\n"
     ]
    },
    {
     "name": "stderr",
     "output_type": "stream",
     "text": [
      "100%|██████████████████████████████████████████████████████████████████████████████| 980/980 [00:00<00:00, 1066.99it/s]\n"
     ]
    },
    {
     "name": "stdout",
     "output_type": "stream",
     "text": [
      "The length of follower history for training data is  980\n"
     ]
    },
    {
     "name": "stderr",
     "output_type": "stream",
     "text": [
      "C:\\Users\\Chidibede\\Anaconda3\\lib\\site-packages\\gensim\\models\\base_any2vec.py:743: UserWarning: C extension not loaded, training will be slow. Install a C compiler and reinstall gensim for fast training.\n",
      "  \"C extension not loaded, training will be slow. \"\n"
     ]
    }
   ],
   "source": [
    "import pandas as pd\n",
    "import pickle\n",
    "from Article_Recommender_System import recommend_article_to_read\n",
    "from People_To_Follow_Recommender_System import recommend_to_follow"
   ]
  },
  {
   "cell_type": "code",
   "execution_count": null,
   "metadata": {},
   "outputs": [],
   "source": [
    "with open(\"word2vec_who_to_follow_model.pkl\", 'rb') as f:\n",
    "    model = pickle.load(f)\n",
    "    \n",
    "    \n",
    "users = pd.read_csv(\"users_df.csv\")\n",
    "users = users[['id', 'name']]\n",
    "users['name'] = users.name.str.lower()"
   ]
  },
  {
   "cell_type": "markdown",
   "metadata": {},
   "source": [
    "### Enter any user you want"
   ]
  },
  {
   "cell_type": "code",
   "execution_count": null,
   "metadata": {},
   "outputs": [],
   "source": [
    "user = input(\"Enter a user you want to recommend to: \").lower()\n",
    "user_id = int(users.loc[users['name']==user, 'id'].to_numpy())\n",
    "user_id = str(user_id)"
   ]
  },
  {
   "cell_type": "markdown",
   "metadata": {},
   "source": [
    "### Run this Cell to get the recommended people to follow"
   ]
  },
  {
   "cell_type": "code",
   "execution_count": null,
   "metadata": {},
   "outputs": [],
   "source": [
    "# People to follow for the user\n",
    "def similar_users(vector, n = 6):\n",
    "    \n",
    "    # extract most similar users for the input vector\n",
    "    msu = model.wv.similar_by_vector(vector, topn= n+1)[1:]\n",
    "\n",
    "    # extract name of the similar users\n",
    "    similar_us = []\n",
    "    for i in msu:\n",
    "        similar_us.append(i[0])\n",
    "        people_to_follow = users[users['id'].isin(similar_us)]\n",
    "    return people_to_follow\n",
    "\n",
    "try:\n",
    "    print(\"People to Follow: \\n\",similar_users(model[user_id]))\n",
    "except:\n",
    "    print(\"No recommendation for this user\")"
   ]
  },
  {
   "cell_type": "markdown",
   "metadata": {},
   "source": [
    "## Recommend Articles to the user"
   ]
  },
  {
   "cell_type": "code",
   "execution_count": null,
   "metadata": {},
   "outputs": [],
   "source": [
    "recommend_article_to_read(int(user_id))"
   ]
  },
  {
   "cell_type": "markdown",
   "metadata": {},
   "source": [
    "## Recommend who to follow based on similarity"
   ]
  },
  {
   "cell_type": "code",
   "execution_count": null,
   "metadata": {},
   "outputs": [],
   "source": [
    "recommend_to_follow(int(user_id))"
   ]
  },
  {
   "cell_type": "code",
   "execution_count": null,
   "metadata": {},
   "outputs": [],
   "source": []
  }
 ],
 "metadata": {
  "kernelspec": {
   "display_name": "Python 3",
   "language": "python",
   "name": "python3"
  },
  "language_info": {
   "codemirror_mode": {
    "name": "ipython",
    "version": 3
   },
   "file_extension": ".py",
   "mimetype": "text/x-python",
   "name": "python",
   "nbconvert_exporter": "python",
   "pygments_lexer": "ipython3",
   "version": "3.7.3"
  }
 },
 "nbformat": 4,
 "nbformat_minor": 2
}
